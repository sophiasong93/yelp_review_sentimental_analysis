{
 "cells": [
  {
   "cell_type": "markdown",
   "metadata": {},
   "source": [
    "## Yelp Review Text Analysis using RNN "
   ]
  },
  {
   "cell_type": "markdown",
   "metadata": {},
   "source": [
    "## Text Preprocess"
   ]
  },
  {
   "cell_type": "code",
   "execution_count": 2,
   "metadata": {},
   "outputs": [],
   "source": [
    "import pandas as pd\n",
    "import string\n",
    "import re\n",
    "import nltk\n",
    "from nltk.tokenize import TweetTokenizer"
   ]
  },
  {
   "cell_type": "code",
   "execution_count": 3,
   "metadata": {},
   "outputs": [],
   "source": [
    "label_data=pd.read_csv(\"yelp_review_with_labels.csv\")"
   ]
  },
  {
   "cell_type": "code",
   "execution_count": 4,
   "metadata": {},
   "outputs": [
    {
     "data": {
      "text/plain": [
       "\"Went here for all you can eat sushi dinner! Bottomline: best all you can eat sushi in Calgary! It costs $26 per person for sushi and sashimi and $32 for the deluxe menu which includes oysters and tataki. \\n\\nWe went a little overboard with ordering rolls (to the point that the waiter asked if we were sure we can finish haha) and then regretted it shortly after! There is a charge for unfinished food so it was a little stressful haha \\n\\nWe ordered the mango dragon roll (prawn tempura and avacado with mango), Philadelphia roll, spicy salmon roll, beef udon, miso soup, salmon and tuna sashimi, salmon rose and prawn tempura. Out of these my favourites were the spicy salmon and the mango dragon roll. I didn't love the tempura personally because it was a bit soggy. Didn't have room for dessert after all this food so can't comment on that haha\""
      ]
     },
     "execution_count": 4,
     "metadata": {},
     "output_type": "execute_result"
    }
   ],
   "source": [
    "label_data[\"text\"][0]"
   ]
  },
  {
   "cell_type": "code",
   "execution_count": 5,
   "metadata": {},
   "outputs": [],
   "source": [
    "def clean_text(text):\n",
    "    # remove numbers\n",
    "    text_nonum = re.sub(r'\\d+', '', text)\n",
    "    # remove punctuations and convert characters to lower case\n",
    "    text_nopunct = \"\".join([char for char in text_nonum if char not in string.punctuation]) \n",
    "    # substitute multiple whitespace with single whitespace\n",
    "    # remove leading and trailing whitespaces\n",
    "    text_no_doublespace = re.sub('\\s+', ' ', text_nopunct).strip()\n",
    "    return text_no_doublespace\n",
    "\n",
    "label_data[\"text\"]=label_data['text'].map(lambda text: clean_text(text))"
   ]
  },
  {
   "cell_type": "code",
   "execution_count": 6,
   "metadata": {},
   "outputs": [
    {
     "data": {
      "text/plain": [
       "'Went here for all you can eat sushi dinner Bottomline best all you can eat sushi in Calgary It costs per person for sushi and sashimi and for the deluxe menu which includes oysters and tataki We went a little overboard with ordering rolls to the point that the waiter asked if we were sure we can finish haha and then regretted it shortly after There is a charge for unfinished food so it was a little stressful haha We ordered the mango dragon roll prawn tempura and avacado with mango Philadelphia roll spicy salmon roll beef udon miso soup salmon and tuna sashimi salmon rose and prawn tempura Out of these my favourites were the spicy salmon and the mango dragon roll I didnt love the tempura personally because it was a bit soggy Didnt have room for dessert after all this food so cant comment on that haha'"
      ]
     },
     "execution_count": 6,
     "metadata": {},
     "output_type": "execute_result"
    }
   ],
   "source": [
    "label_data[\"text\"][0]"
   ]
  },
  {
   "cell_type": "code",
   "execution_count": 7,
   "metadata": {},
   "outputs": [
    {
     "name": "stderr",
     "output_type": "stream",
     "text": [
      "[nltk_data] Downloading package stopwords to\n",
      "[nltk_data]     /Users/sophia/nltk_data...\n",
      "[nltk_data]   Package stopwords is already up-to-date!\n"
     ]
    }
   ],
   "source": [
    "#lowercase conversion  \n",
    "label_data['text'] = [i.lower() for i in label_data['text']]\n",
    "\n",
    "#stopword removal \n",
    "from nltk.corpus import stopwords\n",
    "nltk.download('stopwords')\n",
    "\n",
    "Stopwords = set(stopwords.words('english'))\n",
    "\n",
    "label_data[\"text\"] = label_data[\"text\"].apply(lambda text: \" \".join([word for word in str(text).split() if word not in Stopwords]))"
   ]
  },
  {
   "cell_type": "code",
   "execution_count": 35,
   "metadata": {},
   "outputs": [
    {
     "data": {
      "text/plain": [
       "'went eat sushi dinner bottomlin best eat sushi calgari cost per person sushi sashimi delux menu includ oyster tataki went littl overboard order roll point waiter ask sure finish haha regret shortli charg unfinish food littl stress haha order mango dragon roll prawn tempura avacado mango philadelphia roll spici salmon roll beef udon miso soup salmon tuna sashimi salmon rose prawn tempura favourit spici salmon mango dragon roll didnt love tempura person bit soggi didnt room dessert food cant comment haha'"
      ]
     },
     "execution_count": 35,
     "metadata": {},
     "output_type": "execute_result"
    }
   ],
   "source": [
    "label_data[\"text\"][0]"
   ]
  },
  {
   "cell_type": "code",
   "execution_count": 8,
   "metadata": {},
   "outputs": [
    {
     "name": "stderr",
     "output_type": "stream",
     "text": [
      "[nltk_data] Downloading package wordnet to /Users/sophia/nltk_data...\n",
      "[nltk_data]   Package wordnet is already up-to-date!\n"
     ]
    }
   ],
   "source": [
    "#lemmatization\n",
    "nltk.download('wordnet')\n",
    "from textblob import Word\n",
    "from nltk.stem import WordNetLemmatizer \n",
    "  \n",
    "lemmatizer = WordNetLemmatizer()\n",
    "\n",
    "# Lemmatize final review format\n",
    "label_data['text'] = label_data['text'].apply(lambda x: \" \".join([Word(word).lemmatize() for word in x.split()]))"
   ]
  },
  {
   "cell_type": "code",
   "execution_count": 9,
   "metadata": {},
   "outputs": [],
   "source": [
    "#stemming\n",
    "from nltk.stem.porter import PorterStemmer\n",
    "\n",
    "stemmer = PorterStemmer()\n",
    "\n",
    "label_data[\"text\"] = label_data[\"text\"].apply(lambda text: \" \".join([stemmer.stem(word) for word in text.split()]))"
   ]
  },
  {
   "cell_type": "code",
   "execution_count": 10,
   "metadata": {},
   "outputs": [
    {
     "data": {
      "text/plain": [
       "'went eat sushi dinner bottomlin best eat sushi calgari cost per person sushi sashimi delux menu includ oyster tataki went littl overboard order roll point waiter ask sure finish haha regret shortli charg unfinish food littl stress haha order mango dragon roll prawn tempura avacado mango philadelphia roll spici salmon roll beef udon miso soup salmon tuna sashimi salmon rose prawn tempura favourit spici salmon mango dragon roll didnt love tempura person bit soggi didnt room dessert food cant comment haha'"
      ]
     },
     "execution_count": 10,
     "metadata": {},
     "output_type": "execute_result"
    }
   ],
   "source": [
    "label_data['text'][0]"
   ]
  },
  {
   "cell_type": "code",
   "execution_count": 11,
   "metadata": {},
   "outputs": [
    {
     "data": {
      "text/plain": [
       "0    went eat sushi dinner bottomlin best eat sushi...\n",
       "1    servic okay present menu particularli eat sush...\n",
       "2    went weekend lunch foodservic fantast never ay...\n",
       "3    ive eaten twice im realli impress get lot pric...\n",
       "4    good group came tonight birthday dinner group ...\n",
       "Name: text, dtype: object"
      ]
     },
     "execution_count": 11,
     "metadata": {},
     "output_type": "execute_result"
    }
   ],
   "source": [
    "#split train and test dataset\n",
    "X=label_data[\"text\"]\n",
    "X.head(5)"
   ]
  },
  {
   "cell_type": "code",
   "execution_count": 12,
   "metadata": {},
   "outputs": [
    {
     "data": {
      "text/plain": [
       "0    0\n",
       "1    0\n",
       "2    1\n",
       "3    1\n",
       "4    0\n",
       "Name: polarity, dtype: int64"
      ]
     },
     "execution_count": 12,
     "metadata": {},
     "output_type": "execute_result"
    }
   ],
   "source": [
    "y=label_data[\"polarity\"]\n",
    "y.head(5)"
   ]
  },
  {
   "cell_type": "code",
   "execution_count": 13,
   "metadata": {},
   "outputs": [],
   "source": [
    "#split train and test dataset\n",
    "from sklearn.model_selection import train_test_split\n",
    "X_train,X_test,y_train,y_test=train_test_split(X,y,test_size=0.3,random_state=1)"
   ]
  },
  {
   "cell_type": "code",
   "execution_count": 14,
   "metadata": {},
   "outputs": [
    {
     "name": "stderr",
     "output_type": "stream",
     "text": [
      "Using TensorFlow backend.\n"
     ]
    }
   ],
   "source": [
    "from keras.preprocessing.text import Tokenizer\n",
    "# Number of words to consider as features\n",
    "# restrict the yelp reviews to the top 10000 most common words\n",
    "max_features=10000"
   ]
  },
  {
   "cell_type": "code",
   "execution_count": 15,
   "metadata": {},
   "outputs": [],
   "source": [
    "# Tokenize the sentences\n",
    "tokenizer = Tokenizer(num_words=max_features)\n",
    "tokenizer.fit_on_texts(list(X_train)+list(X_test))\n",
    "X_train = tokenizer.texts_to_sequences(X_train)\n",
    "X_test = tokenizer.texts_to_sequences(X_test)"
   ]
  },
  {
   "cell_type": "code",
   "execution_count": 16,
   "metadata": {},
   "outputs": [],
   "source": [
    "from keras.preprocessing.sequence import pad_sequences\n",
    "# cut reviews after 200 words\n",
    "maxlen=200\n",
    "X_train=pad_sequences(X_train,maxlen=maxlen) #training data contains a list of list of numbers \n",
    "X_test=pad_sequences(X_test,maxlen=maxlen) #each list has the same numbers "
   ]
  },
  {
   "cell_type": "code",
   "execution_count": 17,
   "metadata": {},
   "outputs": [
    {
     "name": "stdout",
     "output_type": "stream",
     "text": [
      "X_train (11738, 200)\n",
      "y_train (11738,)\n"
     ]
    }
   ],
   "source": [
    "print(\"X_train\",X_train.shape)\n",
    "print(\"y_train\",y_train.shape)"
   ]
  },
  {
   "cell_type": "code",
   "execution_count": 17,
   "metadata": {},
   "outputs": [
    {
     "name": "stdout",
     "output_type": "stream",
     "text": [
      "X_test (5031, 200)\n",
      "y_test (5031,)\n"
     ]
    }
   ],
   "source": [
    "print(\"X_test\",X_test.shape)\n",
    "print(\"y_test\",y_test.shape)"
   ]
  },
  {
   "cell_type": "markdown",
   "metadata": {},
   "source": [
    "## Baseline: Multinomial Naive Bayes"
   ]
  },
  {
   "cell_type": "code",
   "execution_count": 52,
   "metadata": {},
   "outputs": [
    {
     "data": {
      "text/plain": [
       "MultinomialNB(alpha=1.0, class_prior=None, fit_prior=True)"
      ]
     },
     "execution_count": 52,
     "metadata": {},
     "output_type": "execute_result"
    }
   ],
   "source": [
    "from sklearn.naive_bayes import MultinomialNB\n",
    "nb = MultinomialNB()\n",
    "nb.fit(X_train, y_train)"
   ]
  },
  {
   "cell_type": "code",
   "execution_count": 53,
   "metadata": {},
   "outputs": [],
   "source": [
    "preds = nb.predict(X_test)"
   ]
  },
  {
   "cell_type": "code",
   "execution_count": 54,
   "metadata": {},
   "outputs": [
    {
     "name": "stdout",
     "output_type": "stream",
     "text": [
      "[[ 356 1372]\n",
      " [ 498 2805]]\n",
      "\n",
      "\n",
      "              precision    recall  f1-score   support\n",
      "\n",
      "           0       0.42      0.21      0.28      1728\n",
      "           1       0.67      0.85      0.75      3303\n",
      "\n",
      "    accuracy                           0.63      5031\n",
      "   macro avg       0.54      0.53      0.51      5031\n",
      "weighted avg       0.58      0.63      0.59      5031\n",
      "\n"
     ]
    }
   ],
   "source": [
    "from sklearn.metrics import confusion_matrix, classification_report\n",
    "print(confusion_matrix(y_test, preds))\n",
    "print('\\n')\n",
    "print(classification_report(y_test, preds))"
   ]
  },
  {
   "cell_type": "markdown",
   "metadata": {},
   "source": [
    "## Model 1: Embedding layer + LSTM"
   ]
  },
  {
   "cell_type": "code",
   "execution_count": 26,
   "metadata": {},
   "outputs": [],
   "source": [
    "from keras.models import Sequential\n",
    "from keras.layers import LSTM\n",
    "from keras.layers import Embedding, Dense,Dropout,LSTM,Bidirectional\n",
    "from keras.optimizers import RMSprop\n",
    "from keras import backend as K\n",
    "from tensorflow.keras import regularizers\n",
    "\n",
    "import matplotlib.pyplot as plt\n",
    "%matplotlib inline"
   ]
  },
  {
   "cell_type": "code",
   "execution_count": 19,
   "metadata": {},
   "outputs": [
    {
     "name": "stdout",
     "output_type": "stream",
     "text": [
      "Model: \"sequential_1\"\n",
      "_________________________________________________________________\n",
      "Layer (type)                 Output Shape              Param #   \n",
      "=================================================================\n",
      "embedding_1 (Embedding)      (None, 200, 64)           640000    \n",
      "_________________________________________________________________\n",
      "lstm_1 (LSTM)                (None, 64)                33024     \n",
      "_________________________________________________________________\n",
      "dense_1 (Dense)              (None, 1)                 65        \n",
      "=================================================================\n",
      "Total params: 673,089\n",
      "Trainable params: 673,089\n",
      "Non-trainable params: 0\n",
      "_________________________________________________________________\n"
     ]
    }
   ],
   "source": [
    "max_words = 10000 \n",
    "maxlen = 200\n",
    "model = Sequential()\n",
    "model.add(Embedding(max_words, 64,input_length = maxlen))\n",
    "model.add(LSTM(64,dropout=0.2, recurrent_dropout=0.2))\n",
    "model.add(Dense(1, activation='sigmoid'))\n",
    "\n",
    "model.compile(optimizer='rmsprop',\n",
    "              loss='binary_crossentropy',\n",
    "              metrics=['acc'])\n",
    "model.summary()"
   ]
  },
  {
   "cell_type": "code",
   "execution_count": 20,
   "metadata": {},
   "outputs": [
    {
     "name": "stderr",
     "output_type": "stream",
     "text": [
      "/Users/sophia/opt/anaconda3/lib/python3.7/site-packages/tensorflow/python/framework/indexed_slices.py:434: UserWarning: Converting sparse IndexedSlices to a dense Tensor of unknown shape. This may consume a large amount of memory.\n",
      "  \"Converting sparse IndexedSlices to a dense Tensor of unknown shape. \"\n"
     ]
    },
    {
     "name": "stdout",
     "output_type": "stream",
     "text": [
      "Train on 9390 samples, validate on 2348 samples\n",
      "Epoch 1/10\n",
      "9390/9390 [==============================] - 13s 1ms/step - loss: 0.5475 - acc: 0.7225 - val_loss: 0.4529 - val_acc: 0.7922\n",
      "Epoch 2/10\n",
      "9390/9390 [==============================] - 13s 1ms/step - loss: 0.3943 - acc: 0.8285 - val_loss: 0.3966 - val_acc: 0.8130\n",
      "Epoch 3/10\n",
      "9390/9390 [==============================] - 12s 1ms/step - loss: 0.3244 - acc: 0.8650 - val_loss: 0.3776 - val_acc: 0.8352\n",
      "Epoch 4/10\n",
      "9390/9390 [==============================] - 12s 1ms/step - loss: 0.2761 - acc: 0.8883 - val_loss: 0.3972 - val_acc: 0.8101\n",
      "Epoch 5/10\n",
      "9390/9390 [==============================] - 12s 1ms/step - loss: 0.2509 - acc: 0.8987 - val_loss: 0.4183 - val_acc: 0.8224\n",
      "Epoch 6/10\n",
      "9390/9390 [==============================] - 12s 1ms/step - loss: 0.2333 - acc: 0.9116 - val_loss: 0.4453 - val_acc: 0.8177\n",
      "Epoch 7/10\n",
      "9390/9390 [==============================] - 12s 1ms/step - loss: 0.2088 - acc: 0.9206 - val_loss: 0.4325 - val_acc: 0.8203\n",
      "Epoch 8/10\n",
      "9390/9390 [==============================] - 12s 1ms/step - loss: 0.1908 - acc: 0.9264 - val_loss: 0.4731 - val_acc: 0.8301\n",
      "Epoch 9/10\n",
      "9390/9390 [==============================] - 12s 1ms/step - loss: 0.1706 - acc: 0.9355 - val_loss: 0.4778 - val_acc: 0.8194\n",
      "Epoch 10/10\n",
      "9390/9390 [==============================] - 12s 1ms/step - loss: 0.1611 - acc: 0.9380 - val_loss: 0.5470 - val_acc: 0.8207\n"
     ]
    }
   ],
   "source": [
    "history = model.fit(X_train, y_train,\n",
    "                    epochs=10,\n",
    "                    batch_size=128,\n",
    "                    validation_split=0.2)"
   ]
  },
  {
   "cell_type": "code",
   "execution_count": 24,
   "metadata": {},
   "outputs": [
    {
     "data": {
      "image/png": "[encoded data removed]",
      "text/plain": [
       "<Figure size 432x288 with 1 Axes>"
      ]
     },
     "metadata": {
      "needs_background": "light"
     },
     "output_type": "display_data"
    },
    {
     "data": {
      "image/png": "[encoded data removed]",
      "text/plain": [
       "<Figure size 432x288 with 1 Axes>"
      ]
     },
     "metadata": {
      "needs_background": "light"
     },
     "output_type": "display_data"
    }
   ],
   "source": [
    "import matplotlib.pyplot as plt\n",
    "%matplotlib inline\n",
    "acc = history.history['acc']\n",
    "val_acc = history.history['val_acc']\n",
    "loss = history.history['loss']\n",
    "val_loss = history.history['val_loss']\n",
    "\n",
    "epochs = range(len(acc))\n",
    "\n",
    "plt.plot(epochs, acc, 'bo', label='Training acc')\n",
    "plt.plot(epochs, val_acc, 'b', label='Validation acc')\n",
    "plt.title('Training and validation accuracy')\n",
    "plt.legend()\n",
    "\n",
    "plt.figure()\n",
    "\n",
    "plt.plot(epochs, loss, 'bo', label='Training loss')\n",
    "plt.plot(epochs, val_loss, 'b', label='Validation loss')\n",
    "plt.title('Training and validation loss')\n",
    "plt.legend()\n",
    "\n",
    "plt.show()"
   ]
  },
  {
   "cell_type": "code",
   "execution_count": 35,
   "metadata": {},
   "outputs": [
    {
     "data": {
      "text/plain": [
       "['loss', 'acc']"
      ]
     },
     "execution_count": 35,
     "metadata": {},
     "output_type": "execute_result"
    }
   ],
   "source": [
    "model.metrics_names"
   ]
  },
  {
   "cell_type": "code",
   "execution_count": 34,
   "metadata": {},
   "outputs": [
    {
     "name": "stdout",
     "output_type": "stream",
     "text": [
      "5031/5031 [==============================] - 2s 457us/step\n",
      "model loss is 0.8252036579855155\n",
      "5031/5031 [==============================] - 2s 427us/step\n",
      "model accuracy is 0.803021252155304\n"
     ]
    }
   ],
   "source": [
    "#model evaluation on test data\n",
    "print(f\"model loss is {model.evaluate(X_test,y_test)[0]}\")\n",
    "print(f\"model accuracy is {model.evaluate(X_test,y_test)[1]}\")"
   ]
  },
  {
   "cell_type": "markdown",
   "metadata": {},
   "source": [
    "Summary: with LSTM, dropout and recurrent drop, the model is significantly overfitting after the second epoch."
   ]
  },
  {
   "cell_type": "markdown",
   "metadata": {},
   "source": [
    "## Model 2: Embedding layer + Bidirectional LSTM"
   ]
  },
  {
   "cell_type": "code",
   "execution_count": 19,
   "metadata": {},
   "outputs": [],
   "source": [
    "from keras import backend as K\n",
    "K.clear_session()"
   ]
  },
  {
   "cell_type": "code",
   "execution_count": 26,
   "metadata": {},
   "outputs": [
    {
     "name": "stdout",
     "output_type": "stream",
     "text": [
      "Model: \"sequential_1\"\n",
      "_________________________________________________________________\n",
      "Layer (type)                 Output Shape              Param #   \n",
      "=================================================================\n",
      "embedding_1 (Embedding)      (None, 200, 128)          1280000   \n",
      "_________________________________________________________________\n",
      "bidirectional_1 (Bidirection (None, 256)               263168    \n",
      "_________________________________________________________________\n",
      "dense_1 (Dense)              (None, 1)                 257       \n",
      "=================================================================\n",
      "Total params: 1,543,425\n",
      "Trainable params: 1,543,425\n",
      "Non-trainable params: 0\n",
      "_________________________________________________________________\n"
     ]
    }
   ],
   "source": [
    "model_2 = Sequential()\n",
    "model_2.add(Embedding(max_words, 128, input_length=maxlen))\n",
    "model_2.add(Bidirectional(LSTM(128,dropout=0.2, recurrent_dropout=0.2)))\n",
    "model_2.add(Dense(1, activation='sigmoid'))\n",
    "model_2.compile(optimizer='rmsprop',loss='binary_crossentropy', metrics=['accuracy'])\n",
    "model_2.summary()"
   ]
  },
  {
   "cell_type": "code",
   "execution_count": 27,
   "metadata": {},
   "outputs": [
    {
     "name": "stdout",
     "output_type": "stream",
     "text": [
      "Train on 9390 samples, validate on 2348 samples\n",
      "Epoch 1/10\n",
      "9390/9390 [==============================] - 12s 1ms/step - loss: 0.1491 - acc: 0.9413 - val_loss: 0.6420 - val_acc: 0.8152\n",
      "Epoch 2/10\n",
      "9390/9390 [==============================] - 12s 1ms/step - loss: 0.1360 - acc: 0.9502 - val_loss: 0.5669 - val_acc: 0.8143\n",
      "Epoch 3/10\n",
      "9390/9390 [==============================] - 12s 1ms/step - loss: 0.1251 - acc: 0.9537 - val_loss: 0.6665 - val_acc: 0.8079\n",
      "Epoch 4/10\n",
      "9390/9390 [==============================] - 12s 1ms/step - loss: 0.1217 - acc: 0.9550 - val_loss: 0.7198 - val_acc: 0.8130\n",
      "Epoch 5/10\n",
      "9390/9390 [==============================] - 12s 1ms/step - loss: 0.1103 - acc: 0.9573 - val_loss: 0.5971 - val_acc: 0.8062\n",
      "Epoch 6/10\n",
      "9390/9390 [==============================] - 12s 1ms/step - loss: 0.1068 - acc: 0.9616 - val_loss: 0.5981 - val_acc: 0.7951\n",
      "Epoch 7/10\n",
      "9390/9390 [==============================] - 12s 1ms/step - loss: 0.0952 - acc: 0.9655 - val_loss: 0.6517 - val_acc: 0.8054\n",
      "Epoch 8/10\n",
      "9390/9390 [==============================] - 12s 1ms/step - loss: 0.0908 - acc: 0.9661 - val_loss: 0.7247 - val_acc: 0.8066\n",
      "Epoch 9/10\n",
      "9390/9390 [==============================] - 12s 1ms/step - loss: 0.0820 - acc: 0.9695 - val_loss: 0.8039 - val_acc: 0.8113\n",
      "Epoch 10/10\n",
      "9390/9390 [==============================] - 12s 1ms/step - loss: 0.0760 - acc: 0.9712 - val_loss: 0.8265 - val_acc: 0.8045\n"
     ]
    }
   ],
   "source": [
    "history_2 = model_2.fit(X_train, y_train, \n",
    "                    epochs=10, \n",
    "                    batch_size=128, \n",
    "                    validation_split=0.2)"
   ]
  },
  {
   "cell_type": "code",
   "execution_count": 28,
   "metadata": {},
   "outputs": [
    {
     "data": {
      "image/png": "[encoded data removed]",
      "text/plain": [
       "<Figure size 432x288 with 1 Axes>"
      ]
     },
     "metadata": {
      "needs_background": "light"
     },
     "output_type": "display_data"
    },
    {
     "data": {
      "image/png": "[encoded data removed]",
      "text/plain": [
       "<Figure size 432x288 with 1 Axes>"
      ]
     },
     "metadata": {
      "needs_background": "light"
     },
     "output_type": "display_data"
    }
   ],
   "source": [
    "import matplotlib.pyplot as plt\n",
    "%matplotlib inline\n",
    "acc = history_2.history['acc']\n",
    "val_acc = history_2.history['val_acc']\n",
    "loss = history_2.history['loss']\n",
    "val_loss = history_2.history['val_loss']\n",
    "\n",
    "epochs = range(len(acc))\n",
    "\n",
    "plt.plot(epochs, acc, 'bo', label='Training acc')\n",
    "plt.plot(epochs, val_acc, 'b', label='Validation acc')\n",
    "plt.title('Training and validation accuracy')\n",
    "plt.legend()\n",
    "\n",
    "plt.figure()\n",
    "\n",
    "plt.plot(epochs, loss, 'bo', label='Training loss')\n",
    "plt.plot(epochs, val_loss, 'b', label='Validation loss')\n",
    "plt.title('Training and validation loss')\n",
    "plt.legend()\n",
    "\n",
    "plt.show()"
   ]
  },
  {
   "cell_type": "code",
   "execution_count": 51,
   "metadata": {},
   "outputs": [
    {
     "name": "stdout",
     "output_type": "stream",
     "text": [
      "5031/5031 [==============================] - 7s 1ms/step\n",
      "model loss is 0.6936143260783122\n",
      "5031/5031 [==============================] - 9s 2ms/step\n",
      "model accuracy is 0.4581594169139862\n"
     ]
    }
   ],
   "source": [
    "#model evaluation on test data\n",
    "print(f\"model loss is {model_2.evaluate(X_test,y_test)[0]}\")\n",
    "print(f\"model accuracy is {model_2.evaluate(X_test,y_test)[1]}\")"
   ]
  },
  {
   "cell_type": "markdown",
   "metadata": {},
   "source": [
    "## Model 3: Embedding Layer + LSTM(32)\n",
    "* accuracy: 0.81792"
   ]
  },
  {
   "cell_type": "code",
   "execution_count": 44,
   "metadata": {},
   "outputs": [],
   "source": [
    "from tensorflow.keras import regularizers"
   ]
  },
  {
   "cell_type": "code",
   "execution_count": 45,
   "metadata": {},
   "outputs": [],
   "source": [
    "K.clear_session()"
   ]
  },
  {
   "cell_type": "code",
   "execution_count": 61,
   "metadata": {},
   "outputs": [
    {
     "name": "stdout",
     "output_type": "stream",
     "text": [
      "Model: \"sequential_4\"\n",
      "_________________________________________________________________\n",
      "Layer (type)                 Output Shape              Param #   \n",
      "=================================================================\n",
      "embedding_4 (Embedding)      (None, 200, 32)           320000    \n",
      "_________________________________________________________________\n",
      "lstm_3 (LSTM)                (None, 200, 32)           8320      \n",
      "_________________________________________________________________\n",
      "dense_3 (Dense)              (None, 200, 1)            33        \n",
      "=================================================================\n",
      "Total params: 328,353\n",
      "Trainable params: 328,353\n",
      "Non-trainable params: 0\n",
      "_________________________________________________________________\n"
     ]
    }
   ],
   "source": [
    "max_words = 10000 \n",
    "maxlen = 200\n",
    "model = Sequential()\n",
    "model.add(Embedding(max_words, 32,input_length = maxlen))\n",
    "#output shape(batch_size,timestep,units)\n",
    "model.add(LSTM(32,dropout=0.3, recurrent_dropout=0.3,recurrent_regularizer=regularizers.l2(0.01),return_sequences=True))\n",
    "model.add(Dense(1, activation='sigmoid'))\n",
    "\n",
    "model.compile(optimizer='rmsprop',\n",
    "              loss='binary_crossentropy',\n",
    "              metrics=['acc'])\n",
    "model.summary()"
   ]
  },
  {
   "cell_type": "code",
   "execution_count": 48,
   "metadata": {},
   "outputs": [
    {
     "name": "stderr",
     "output_type": "stream",
     "text": [
      "/Users/sophia/opt/anaconda3/lib/python3.7/site-packages/tensorflow/python/framework/indexed_slices.py:434: UserWarning: Converting sparse IndexedSlices to a dense Tensor of unknown shape. This may consume a large amount of memory.\n",
      "  \"Converting sparse IndexedSlices to a dense Tensor of unknown shape. \"\n"
     ]
    },
    {
     "name": "stdout",
     "output_type": "stream",
     "text": [
      "Train on 9390 samples, validate on 2348 samples\n",
      "Epoch 1/10\n",
      "9390/9390 [==============================] - 12s 1ms/step - loss: 0.5461 - acc: 0.7226 - val_loss: 0.4594 - val_acc: 0.7756\n",
      "Epoch 2/10\n",
      "9390/9390 [==============================] - 12s 1ms/step - loss: 0.3947 - acc: 0.8249 - val_loss: 0.3951 - val_acc: 0.8250\n",
      "Epoch 3/10\n",
      "9390/9390 [==============================] - 12s 1ms/step - loss: 0.3295 - acc: 0.8610 - val_loss: 0.3876 - val_acc: 0.8241\n",
      "Epoch 4/10\n",
      "9390/9390 [==============================] - 12s 1ms/step - loss: 0.2811 - acc: 0.8874 - val_loss: 0.3970 - val_acc: 0.8267\n",
      "Epoch 5/10\n",
      "9390/9390 [==============================] - 12s 1ms/step - loss: 0.2515 - acc: 0.8968 - val_loss: 0.4162 - val_acc: 0.8101\n",
      "Epoch 6/10\n",
      "9390/9390 [==============================] - 12s 1ms/step - loss: 0.2282 - acc: 0.9052 - val_loss: 0.4241 - val_acc: 0.8041\n",
      "Epoch 7/10\n",
      "9390/9390 [==============================] - 12s 1ms/step - loss: 0.2090 - acc: 0.9162 - val_loss: 0.4331 - val_acc: 0.8096\n",
      "Epoch 8/10\n",
      "9390/9390 [==============================] - 12s 1ms/step - loss: 0.1946 - acc: 0.9239 - val_loss: 0.4521 - val_acc: 0.8130\n",
      "Epoch 9/10\n",
      "9390/9390 [==============================] - 12s 1ms/step - loss: 0.1753 - acc: 0.9316 - val_loss: 0.6454 - val_acc: 0.8228\n",
      "Epoch 10/10\n",
      "9390/9390 [==============================] - 12s 1ms/step - loss: 0.1641 - acc: 0.9388 - val_loss: 0.5066 - val_acc: 0.8152\n"
     ]
    }
   ],
   "source": [
    "history = model.fit(X_train, y_train,\n",
    "                    epochs=10,\n",
    "                    batch_size=128,\n",
    "                    validation_split=0.2)"
   ]
  },
  {
   "cell_type": "code",
   "execution_count": 49,
   "metadata": {},
   "outputs": [
    {
     "data": {
      "image/png": "[encoded data removed]",
      "text/plain": [
       "<Figure size 432x288 with 1 Axes>"
      ]
     },
     "metadata": {
      "needs_background": "light"
     },
     "output_type": "display_data"
    },
    {
     "data": {
      "image/png": "[encoded data removed]",
      "text/plain": [
       "<Figure size 432x288 with 1 Axes>"
      ]
     },
     "metadata": {
      "needs_background": "light"
     },
     "output_type": "display_data"
    }
   ],
   "source": [
    "acc = history.history['acc']\n",
    "val_acc = history.history['val_acc']\n",
    "loss = history.history['loss']\n",
    "val_loss = history.history['val_loss']\n",
    "\n",
    "epochs = range(len(acc))\n",
    "\n",
    "plt.plot(epochs, acc, 'bo', label='Training acc')\n",
    "plt.plot(epochs, val_acc, 'b', label='Validation acc')\n",
    "plt.title('Training and validation accuracy')\n",
    "plt.legend()\n",
    "\n",
    "plt.figure()\n",
    "\n",
    "plt.plot(epochs, loss, 'bo', label='Training loss')\n",
    "plt.plot(epochs, val_loss, 'b', label='Validation loss')\n",
    "plt.title('Training and validation loss')\n",
    "plt.legend()\n",
    "\n",
    "plt.show()"
   ]
  },
  {
   "cell_type": "code",
   "execution_count": 50,
   "metadata": {},
   "outputs": [
    {
     "name": "stdout",
     "output_type": "stream",
     "text": [
      "5031/5031 [==============================] - 2s 441us/step\n",
      "model loss is 0.4973128602764664\n",
      "5031/5031 [==============================] - 2s 424us/step\n",
      "model accuracy is 0.8179288506507874\n"
     ]
    }
   ],
   "source": [
    "#model evaluation on test data\n",
    "print(f\"model loss is {model.evaluate(X_test,y_test)[0]}\")\n",
    "print(f\"model accuracy is {model.evaluate(X_test,y_test)[1]}\")"
   ]
  },
  {
   "cell_type": "markdown",
   "metadata": {},
   "source": [
    "## Test Model 3\n",
    "* accuracy: 0.81176"
   ]
  },
  {
   "cell_type": "code",
   "execution_count": 55,
   "metadata": {},
   "outputs": [
    {
     "name": "stdout",
     "output_type": "stream",
     "text": [
      "Model: \"sequential_1\"\n",
      "_________________________________________________________________\n",
      "Layer (type)                 Output Shape              Param #   \n",
      "=================================================================\n",
      "embedding_1 (Embedding)      (None, 200, 32)           320000    \n",
      "_________________________________________________________________\n",
      "lstm_1 (LSTM)                (None, 32)                8320      \n",
      "_________________________________________________________________\n",
      "dense_1 (Dense)              (None, 1)                 33        \n",
      "=================================================================\n",
      "Total params: 328,353\n",
      "Trainable params: 328,353\n",
      "Non-trainable params: 0\n",
      "_________________________________________________________________\n"
     ]
    }
   ],
   "source": [
    "K.clear_session()\n",
    "max_words = 10000 \n",
    "maxlen = 200\n",
    "model_3 = Sequential()\n",
    "model_3.add(Embedding(max_words, 32,input_length = maxlen))\n",
    "model_3.add(LSTM(32,dropout=0.3, recurrent_dropout=0.3,recurrent_regularizer=regularizers.l2(0.01)))\n",
    "model_3.add(Dense(1, activation='sigmoid'))\n",
    "\n",
    "model_3.compile(optimizer='rmsprop',\n",
    "              loss='binary_crossentropy',\n",
    "              metrics=['acc'])\n",
    "model_3.summary()"
   ]
  },
  {
   "cell_type": "code",
   "execution_count": 56,
   "metadata": {},
   "outputs": [
    {
     "name": "stderr",
     "output_type": "stream",
     "text": [
      "/Users/sophia/opt/anaconda3/lib/python3.7/site-packages/tensorflow/python/framework/indexed_slices.py:434: UserWarning: Converting sparse IndexedSlices to a dense Tensor of unknown shape. This may consume a large amount of memory.\n",
      "  \"Converting sparse IndexedSlices to a dense Tensor of unknown shape. \"\n"
     ]
    },
    {
     "name": "stdout",
     "output_type": "stream",
     "text": [
      "Train on 9390 samples, validate on 2348 samples\n",
      "Epoch 1/10\n",
      "9390/9390 [==============================] - 8s 859us/step - loss: 0.7734 - acc: 0.6647 - val_loss: 0.6041 - val_acc: 0.7317\n",
      "Epoch 2/10\n",
      "9390/9390 [==============================] - 8s 833us/step - loss: 0.5172 - acc: 0.7923 - val_loss: 0.4735 - val_acc: 0.7943\n",
      "Epoch 3/10\n",
      "9390/9390 [==============================] - 8s 814us/step - loss: 0.4226 - acc: 0.8260 - val_loss: 0.4521 - val_acc: 0.7973\n",
      "Epoch 4/10\n",
      "9390/9390 [==============================] - 8s 811us/step - loss: 0.3721 - acc: 0.8507 - val_loss: 0.4334 - val_acc: 0.8062\n",
      "Epoch 5/10\n",
      "9390/9390 [==============================] - 8s 813us/step - loss: 0.3331 - acc: 0.8701 - val_loss: 0.4400 - val_acc: 0.7968\n",
      "Epoch 6/10\n",
      "9390/9390 [==============================] - 7s 753us/step - loss: 0.3037 - acc: 0.8865 - val_loss: 0.4344 - val_acc: 0.8139\n",
      "Epoch 7/10\n",
      "9390/9390 [==============================] - 7s 766us/step - loss: 0.2865 - acc: 0.8935 - val_loss: 0.4481 - val_acc: 0.8109\n",
      "Epoch 8/10\n",
      "9390/9390 [==============================] - 8s 807us/step - loss: 0.2620 - acc: 0.9018 - val_loss: 0.4707 - val_acc: 0.8237\n",
      "Epoch 9/10\n",
      "9390/9390 [==============================] - 8s 875us/step - loss: 0.2437 - acc: 0.9099 - val_loss: 0.4445 - val_acc: 0.8143\n",
      "Epoch 10/10\n",
      "9390/9390 [==============================] - 7s 757us/step - loss: 0.2268 - acc: 0.9178 - val_loss: 0.4574 - val_acc: 0.8071\n"
     ]
    }
   ],
   "source": [
    "history_3 = model_3.fit(X_train, y_train,\n",
    "                    epochs=10,\n",
    "                    batch_size=128,\n",
    "                    validation_split=0.2)"
   ]
  },
  {
   "cell_type": "code",
   "execution_count": 57,
   "metadata": {},
   "outputs": [
    {
     "data": {
      "image/png": "[encoded data removed]",
      "text/plain": [
       "<Figure size 432x288 with 1 Axes>"
      ]
     },
     "metadata": {
      "needs_background": "light"
     },
     "output_type": "display_data"
    },
    {
     "data": {
      "image/png": "[encoded data removed]",
      "text/plain": [
       "<Figure size 432x288 with 1 Axes>"
      ]
     },
     "metadata": {
      "needs_background": "light"
     },
     "output_type": "display_data"
    }
   ],
   "source": [
    "acc = history_3.history['acc']\n",
    "val_acc = history_3.history['val_acc']\n",
    "loss = history_3.history['loss']\n",
    "val_loss = history_3.history['val_loss']\n",
    "\n",
    "epochs = range(len(acc))\n",
    "\n",
    "plt.plot(epochs, acc, 'bo', label='Training acc')\n",
    "plt.plot(epochs, val_acc, 'b', label='Validation acc')\n",
    "plt.title('Training and validation accuracy')\n",
    "plt.legend()\n",
    "\n",
    "plt.figure()\n",
    "\n",
    "plt.plot(epochs, loss, 'bo', label='Training loss')\n",
    "plt.plot(epochs, val_loss, 'b', label='Validation loss')\n",
    "plt.title('Training and validation loss')\n",
    "plt.legend()\n",
    "\n",
    "plt.show()"
   ]
  },
  {
   "cell_type": "code",
   "execution_count": 58,
   "metadata": {},
   "outputs": [
    {
     "name": "stdout",
     "output_type": "stream",
     "text": [
      "5031/5031 [==============================] - 2s 335us/step\n",
      "model loss is 0.45575253732681653\n",
      "5031/5031 [==============================] - 2s 353us/step\n",
      "model accuracy is 0.811767041683197\n"
     ]
    }
   ],
   "source": [
    "#model evaluation on test data\n",
    "print(f\"model loss is {model_3.evaluate(X_test,y_test)[0]}\")\n",
    "print(f\"model accuracy is {model_3.evaluate(X_test,y_test)[1]}\")"
   ]
  },
  {
   "cell_type": "markdown",
   "metadata": {},
   "source": [
    "## Model 4: \n",
    "* add dropout layer before LSTM with 0.5\n",
    "* decrease epoch to 32\n",
    "* metrics: accuracy/precison/recall "
   ]
  },
  {
   "cell_type": "code",
   "execution_count": 20,
   "metadata": {},
   "outputs": [],
   "source": [
    "K.clear_session()"
   ]
  },
  {
   "cell_type": "code",
   "execution_count": 23,
   "metadata": {},
   "outputs": [
    {
     "name": "stdout",
     "output_type": "stream",
     "text": [
      "Model: \"sequential_2\"\n",
      "_________________________________________________________________\n",
      "Layer (type)                 Output Shape              Param #   \n",
      "=================================================================\n",
      "embedding_2 (Embedding)      (None, 200, 32)           320000    \n",
      "_________________________________________________________________\n",
      "dropout_2 (Dropout)          (None, 200, 32)           0         \n",
      "_________________________________________________________________\n",
      "lstm_1 (LSTM)                (None, 32)                8320      \n",
      "_________________________________________________________________\n",
      "dense_1 (Dense)              (None, 1)                 33        \n",
      "=================================================================\n",
      "Total params: 328,353\n",
      "Trainable params: 328,353\n",
      "Non-trainable params: 0\n",
      "_________________________________________________________________\n"
     ]
    }
   ],
   "source": [
    "max_words = 10000 \n",
    "maxlen = 200\n",
    "model= Sequential()\n",
    "model.add(Embedding(max_words, 32,input_length = maxlen))\n",
    "model.add(Dropout(0.5))\n",
    "model.add(LSTM(32,dropout=0.3, recurrent_dropout=0.3,recurrent_regularizer=regularizers.l2(0.01)))\n",
    "model.add(Dense(1, activation='sigmoid'))\n",
    "\n",
    "model.compile(optimizer='rmsprop',\n",
    "              loss='binary_crossentropy',\n",
    "              metrics=['acc'])\n",
    "model.summary()"
   ]
  },
  {
   "cell_type": "code",
   "execution_count": 24,
   "metadata": {},
   "outputs": [
    {
     "name": "stderr",
     "output_type": "stream",
     "text": [
      "/Users/sophia/opt/anaconda3/lib/python3.7/site-packages/tensorflow/python/framework/indexed_slices.py:434: UserWarning: Converting sparse IndexedSlices to a dense Tensor of unknown shape. This may consume a large amount of memory.\n",
      "  \"Converting sparse IndexedSlices to a dense Tensor of unknown shape. \"\n"
     ]
    },
    {
     "name": "stdout",
     "output_type": "stream",
     "text": [
      "Train on 9390 samples, validate on 2348 samples\n",
      "Epoch 1/10\n",
      "9390/9390 [==============================] - 26s 3ms/step - loss: 0.6466 - acc: 0.6983 - val_loss: 0.4914 - val_acc: 0.7858\n",
      "Epoch 2/10\n",
      "9390/9390 [==============================] - 24s 3ms/step - loss: 0.4712 - acc: 0.7914 - val_loss: 0.4379 - val_acc: 0.8109\n",
      "Epoch 3/10\n",
      "9390/9390 [==============================] - 24s 3ms/step - loss: 0.4243 - acc: 0.8165 - val_loss: 0.4341 - val_acc: 0.8020\n",
      "Epoch 4/10\n",
      "9390/9390 [==============================] - 24s 3ms/step - loss: 0.3935 - acc: 0.8340 - val_loss: 0.4156 - val_acc: 0.8109\n",
      "Epoch 5/10\n",
      "9390/9390 [==============================] - 24s 3ms/step - loss: 0.3745 - acc: 0.8441 - val_loss: 0.4006 - val_acc: 0.8211\n",
      "Epoch 6/10\n",
      "9390/9390 [==============================] - 24s 3ms/step - loss: 0.3588 - acc: 0.8521 - val_loss: 0.4046 - val_acc: 0.8292\n",
      "Epoch 7/10\n",
      "9390/9390 [==============================] - 24s 3ms/step - loss: 0.3478 - acc: 0.8550 - val_loss: 0.4035 - val_acc: 0.8365\n",
      "Epoch 8/10\n",
      "9390/9390 [==============================] - 24s 3ms/step - loss: 0.3373 - acc: 0.8604 - val_loss: 0.3940 - val_acc: 0.8237\n",
      "Epoch 9/10\n",
      "9390/9390 [==============================] - 24s 3ms/step - loss: 0.3301 - acc: 0.8682 - val_loss: 0.4077 - val_acc: 0.8288\n",
      "Epoch 10/10\n",
      "9390/9390 [==============================] - 24s 3ms/step - loss: 0.3219 - acc: 0.8703 - val_loss: 0.4012 - val_acc: 0.8313\n"
     ]
    }
   ],
   "source": [
    "history = model.fit(X_train, y_train,\n",
    "                    epochs=10,\n",
    "                    batch_size=32,\n",
    "                    validation_split=0.2)"
   ]
  },
  {
   "cell_type": "code",
   "execution_count": 27,
   "metadata": {},
   "outputs": [
    {
     "data": {
      "image/png": "[encoded data removed]",
      "text/plain": [
       "<Figure size 432x288 with 1 Axes>"
      ]
     },
     "metadata": {
      "needs_background": "light"
     },
     "output_type": "display_data"
    },
    {
     "data": {
      "image/png": "[encoded data removed]",
      "text/plain": [
       "<Figure size 432x288 with 1 Axes>"
      ]
     },
     "metadata": {
      "needs_background": "light"
     },
     "output_type": "display_data"
    }
   ],
   "source": [
    "acc = history.history['acc']\n",
    "val_acc = history.history['val_acc']\n",
    "loss = history.history['loss']\n",
    "val_loss = history.history['val_loss']\n",
    "\n",
    "epochs = range(len(acc))\n",
    "\n",
    "plt.plot(epochs, acc, 'bo', label='Training acc')\n",
    "plt.plot(epochs, val_acc, 'b', label='Validation acc')\n",
    "plt.title('Training and validation accuracy')\n",
    "plt.legend()\n",
    "\n",
    "plt.figure()\n",
    "\n",
    "plt.plot(epochs, loss, 'bo', label='Training loss')\n",
    "plt.plot(epochs, val_loss, 'b', label='Validation loss')\n",
    "plt.title('Training and validation loss')\n",
    "plt.legend()\n",
    "\n",
    "plt.show()"
   ]
  },
  {
   "cell_type": "code",
   "execution_count": 28,
   "metadata": {},
   "outputs": [
    {
     "name": "stdout",
     "output_type": "stream",
     "text": [
      "5031/5031 [==============================] - 2s 357us/step\n",
      "model loss is 0.41547058263537756\n",
      "5031/5031 [==============================] - 2s 350us/step\n",
      "model accuracy is 0.8278672099113464\n"
     ]
    }
   ],
   "source": [
    "#model evaluation on test data\n",
    "print(f\"model loss is {model.evaluate(X_test,y_test)[0]}\")\n",
    "print(f\"model accuracy is {model.evaluate(X_test,y_test)[1]}\")"
   ]
  },
  {
   "cell_type": "code",
   "execution_count": 45,
   "metadata": {},
   "outputs": [
    {
     "name": "stdout",
     "output_type": "stream",
     "text": [
      "5031/5031 [==============================] - 2s 380us/step\n",
      "              precision    recall  f1-score   support\n",
      "\n",
      "           0       0.34      1.00      0.51      1728\n",
      "           1       0.00      0.00      0.00      3303\n",
      "\n",
      "    accuracy                           0.34      5031\n",
      "   macro avg       0.17      0.50      0.26      5031\n",
      "weighted avg       0.12      0.34      0.18      5031\n",
      "\n"
     ]
    },
    {
     "name": "stderr",
     "output_type": "stream",
     "text": [
      "/Users/sophia/opt/anaconda3/lib/python3.7/site-packages/sklearn/metrics/classification.py:1437: UndefinedMetricWarning: Precision and F-score are ill-defined and being set to 0.0 in labels with no predicted samples.\n",
      "  'precision', 'predicted', average, warn_for)\n"
     ]
    }
   ],
   "source": [
    "from sklearn.metrics import classification_report,precision_score,recall_score\n",
    "import numpy as np\n",
    "\n",
    "y_pred = model.predict(X_test, batch_size=32, verbose=1)\n",
    "y_pred_bool = np.argmax(y_pred, axis=1)\n",
    "\n",
    "print(classification_report(y_test, y_pred_bool))"
   ]
  },
  {
   "cell_type": "code",
   "execution_count": 46,
   "metadata": {},
   "outputs": [
    {
     "name": "stdout",
     "output_type": "stream",
     "text": [
      "0.8553514144065325\n",
      "0.8879806236754466\n"
     ]
    }
   ],
   "source": [
    "y_pred_hat = model.predict_classes(X_test,verbose=0)\n",
    "print(precision_score(y_test, y_pred_hat))\n",
    "print(recall_score(y_test, y_pred_hat))"
   ]
  },
  {
   "cell_type": "code",
   "execution_count": 36,
   "metadata": {},
   "outputs": [
    {
     "data": {
      "image/png": "[encoded data removed]",
      "text/plain": [
       "<IPython.core.display.Image object>"
      ]
     },
     "execution_count": 36,
     "metadata": {},
     "output_type": "execute_result"
    }
   ],
   "source": [
    "#visualize model design\n",
    "from keras.utils import plot_model\n",
    "plot_model(model, to_file='model.png')"
   ]
  },
  {
   "cell_type": "code",
   "execution_count": 39,
   "metadata": {},
   "outputs": [
    {
     "data": {
      "text/html": [
       "<div>\n",
       "<style scoped>\n",
       "    .dataframe tbody tr th:only-of-type {\n",
       "        vertical-align: middle;\n",
       "    }\n",
       "\n",
       "    .dataframe tbody tr th {\n",
       "        vertical-align: top;\n",
       "    }\n",
       "\n",
       "    .dataframe thead th {\n",
       "        text-align: right;\n",
       "    }\n",
       "</style>\n",
       "<table border=\"1\" class=\"dataframe\">\n",
       "  <thead>\n",
       "    <tr style=\"text-align: right;\">\n",
       "      <th></th>\n",
       "      <th>train_acc</th>\n",
       "      <th>test_acc</th>\n",
       "    </tr>\n",
       "  </thead>\n",
       "  <tbody>\n",
       "    <tr>\n",
       "      <td>0</td>\n",
       "      <td>0.698296</td>\n",
       "      <td>0.785775</td>\n",
       "    </tr>\n",
       "    <tr>\n",
       "      <td>1</td>\n",
       "      <td>0.791374</td>\n",
       "      <td>0.810903</td>\n",
       "    </tr>\n",
       "    <tr>\n",
       "      <td>2</td>\n",
       "      <td>0.816507</td>\n",
       "      <td>0.801959</td>\n",
       "    </tr>\n",
       "    <tr>\n",
       "      <td>3</td>\n",
       "      <td>0.833972</td>\n",
       "      <td>0.810903</td>\n",
       "    </tr>\n",
       "    <tr>\n",
       "      <td>4</td>\n",
       "      <td>0.844089</td>\n",
       "      <td>0.821124</td>\n",
       "    </tr>\n",
       "    <tr>\n",
       "      <td>5</td>\n",
       "      <td>0.852077</td>\n",
       "      <td>0.829216</td>\n",
       "    </tr>\n",
       "    <tr>\n",
       "      <td>6</td>\n",
       "      <td>0.854952</td>\n",
       "      <td>0.836457</td>\n",
       "    </tr>\n",
       "    <tr>\n",
       "      <td>7</td>\n",
       "      <td>0.860383</td>\n",
       "      <td>0.823680</td>\n",
       "    </tr>\n",
       "    <tr>\n",
       "      <td>8</td>\n",
       "      <td>0.868158</td>\n",
       "      <td>0.828790</td>\n",
       "    </tr>\n",
       "    <tr>\n",
       "      <td>9</td>\n",
       "      <td>0.870288</td>\n",
       "      <td>0.831346</td>\n",
       "    </tr>\n",
       "  </tbody>\n",
       "</table>\n",
       "</div>"
      ],
      "text/plain": [
       "   train_acc  test_acc\n",
       "0   0.698296  0.785775\n",
       "1   0.791374  0.810903\n",
       "2   0.816507  0.801959\n",
       "3   0.833972  0.810903\n",
       "4   0.844089  0.821124\n",
       "5   0.852077  0.829216\n",
       "6   0.854952  0.836457\n",
       "7   0.860383  0.823680\n",
       "8   0.868158  0.828790\n",
       "9   0.870288  0.831346"
      ]
     },
     "execution_count": 39,
     "metadata": {},
     "output_type": "execute_result"
    }
   ],
   "source": [
    "#create df w/ train and val acc\n",
    "import pandas as pd \n",
    "train_acc=history.history['acc']\n",
    "test_acc=history.history['val_acc']\n",
    "df=pd.DataFrame()\n",
    "df['train_acc']=train_acc\n",
    "df['test_acc']=test_acc\n",
    "df"
   ]
  },
  {
   "cell_type": "code",
   "execution_count": 40,
   "metadata": {},
   "outputs": [],
   "source": [
    "df.to_csv(\"rnn_acc.csv\")"
   ]
  },
  {
   "cell_type": "code",
   "execution_count": null,
   "metadata": {},
   "outputs": [],
   "source": [
    "sklearn.metrics.precision_score"
   ]
  }
 ],
 "metadata": {
  "kernelspec": {
   "display_name": "Python 3",
   "language": "python",
   "name": "python3"
  },
  "language_info": {
   "codemirror_mode": {
    "name": "ipython",
    "version": 3
   },
   "file_extension": ".py",
   "mimetype": "text/x-python",
   "name": "python",
   "nbconvert_exporter": "python",
   "pygments_lexer": "ipython3",
   "version": "3.7.4"
  }
 },
 "nbformat": 4,
 "nbformat_minor": 4
}
